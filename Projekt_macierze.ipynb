{
  "metadata": {
    "kernelspec": {
      "name": "python",
      "display_name": "Python (Pyodide)",
      "language": "python"
    },
    "language_info": {
      "codemirror_mode": {
        "name": "python",
        "version": 3
      },
      "file_extension": ".py",
      "mimetype": "text/x-python",
      "name": "python",
      "nbconvert_exporter": "python",
      "pygments_lexer": "ipython3",
      "version": "3.8"
    }
  },
  "nbformat_minor": 5,
  "nbformat": 4,
  "cells": [
    {
      "id": "97980438-266b-4ee3-bfeb-2e207d06d61f",
      "cell_type": "markdown",
      "source": "### Biblioteki",
      "metadata": {}
    },
    {
      "id": "5a76c2d2-64af-4515-9860-dfd05c17ba44",
      "cell_type": "code",
      "source": "import numpy as np\nfrom numpy.linalg import det, inv, norm\nimport sympy as sp  #biblioteka umozliwiajaca operacje symboliczne",
      "metadata": {
        "trusted": true
      },
      "outputs": [],
      "execution_count": 2
    },
    {
      "id": "c977173e-db4f-4f34-89e6-e497442dc6d2",
      "cell_type": "markdown",
      "source": "### Losowe generowanie macierzy",
      "metadata": {}
    },
    {
      "id": "c8295671-0290-4e46-875e-818e8e656ff6",
      "cell_type": "code",
      "source": "np.set_printoptions(precision=5, suppress=False, floatmode='fixed')\ntolerance=1e-20\nn=5\n\nA=np.random.randint(low=0, high=10, size=(n, n)) #macierz, na której będziemy wykonywać wszelkie operacje\nB=np.random.randint(low=0, high=10, size=(n, n)) #macierz do testu mnożenia\n\nprint(\"Macierz A: \")\nprint(A)\nprint(\"Macierz B: \")\nprint(B)\n\nZ=A\nk=0",
      "metadata": {
        "trusted": true
      },
      "outputs": [
        {
          "name": "stdout",
          "output_type": "stream",
          "text": "Macierz A: \n[[4 7 2 8 5]\n [6 5 4 6 6]\n [2 6 6 6 4]\n [6 2 2 0 0]\n [8 9 9 4 0]]\nMacierz B: \n[[5 5 7 0 0]\n [4 9 7 3 0]\n [8 9 4 3 3]\n [8 3 6 7 5]\n [5 7 6 8 5]]\n"
        }
      ],
      "execution_count": 3
    },
    {
      "id": "cd186536-e19d-4aad-aaf0-e70f40ce67e3",
      "cell_type": "markdown",
      "source": "### Postać schodkowa",
      "metadata": {}
    },
    {
      "id": "31496b70-4d3c-472b-aa93-ef8ebabd8bed",
      "cell_type": "code",
      "source": "def schodkowa(A):\n    k=0\n    A = A.copy().astype(float) #tworzy kopię i operacje wykonujemy na niej \n    n = A.shape[0]\n    if np.all(A == 0): #jeśli macierz jest wypełniona samymi zerami, to jest w postaci schodkowej\n        return A\n    current_row = 0\n    for col in range(n): #przechodzimy przez kolejne kolumny\n        pivot_row = None\n        for row in range(current_row, n): #szukamy pierwszego niezerowego elementu w kolumnie)\n            if abs(A[row, col]) > tolerance:  #używamy tolerancji dla błędów numerycznych\n                pivot_row = row\n                break \n        if pivot_row is None: #jeśli cała kolumna jest zerowa, przechodzimy do następnej\n            continue       \n        if pivot_row != current_row: #aby mieć niezerowy element w pierwszym wierszu, zamieniamy wiersze\n            A[[current_row, pivot_row]] = A[[pivot_row, current_row]]\n            k+=1\n        for row in range(current_row + 1, n): #stosujemy eliminację w kolumnie\n            if abs(A[row, col]) > tolerance: \n                multiplier = A[row, col] / A[current_row, col]\n                A[row, col:] = A[row, col:] - multiplier * A[current_row, col:]\n        current_row += 1\n        if current_row >= n:\n            break\n    \n    return A,k",
      "metadata": {
        "trusted": true
      },
      "outputs": [],
      "execution_count": 4
    },
    {
      "id": "bdfedfb3-8939-4052-9398-c33b46e3cc00",
      "cell_type": "code",
      "source": "aret,kret=schodkowa(A)\nprint(\"Postac schodkowa macierzy: \")\nprint(aret)",
      "metadata": {
        "trusted": true
      },
      "outputs": [
        {
          "name": "stdout",
          "output_type": "stream",
          "text": "Postac schodkowa macierzy: \n[[ 4.00000  7.00000  2.00000  8.00000  5.00000]\n [ 0.00000 -5.50000  1.00000 -6.00000 -1.50000]\n [ 0.00000  0.00000  5.45455 -0.72727  0.81818]\n [ 0.00000  0.00000  0.00000 -3.06667 -4.80000]\n [ 0.00000  0.00000  0.00000  0.00000  0.14130]]\n"
        }
      ],
      "execution_count": 5
    },
    {
      "id": "b4dbd00f-e16f-423a-bcc7-2ea60b16d262",
      "cell_type": "markdown",
      "source": "### Postać zredukowana",
      "metadata": {}
    },
    {
      "id": "104e40be-cbb5-4833-a294-b688827733e9",
      "cell_type": "code",
      "source": "def zredukowana(A):\n    B=aret.transpose()\n    bret,kret1=schodkowa(B)\n    return bret",
      "metadata": {
        "trusted": true
      },
      "outputs": [],
      "execution_count": 6
    },
    {
      "id": "1e64300c-0342-472d-9684-5ae3feba00b9",
      "cell_type": "code",
      "source": "bret = zredukowana(aret)\nprint(\"Postac zredukowana macierzy: \")\nprint(bret)",
      "metadata": {
        "trusted": true
      },
      "outputs": [
        {
          "name": "stdout",
          "output_type": "stream",
          "text": "Postac zredukowana macierzy: \n[[ 4.00000  0.00000  0.00000  0.00000  0.00000]\n [ 0.00000 -5.50000  0.00000  0.00000  0.00000]\n [ 0.00000  0.00000  5.45455  0.00000  0.00000]\n [ 0.00000  0.00000  0.00000 -3.06667  0.00000]\n [ 0.00000  0.00000  0.00000  0.00000  0.14130]]\n"
        }
      ],
      "execution_count": 7
    },
    {
      "id": "fb437229-531b-4158-bb6a-e464330e62b1",
      "cell_type": "markdown",
      "source": "### Wyznacznik macierzy",
      "metadata": {}
    },
    {
      "id": "9d02ab1e-303d-4958-b3ed-280aa270a80a",
      "cell_type": "code",
      "source": "def wyznacznik(A):\n    n=A.shape[0]\n    m=1\n    m=float(m)\n    for i in range(n):\n        m*=float(A[i,i])\n    m*=(-1)**(kret%2)\n    return m",
      "metadata": {
        "trusted": true
      },
      "outputs": [],
      "execution_count": 8
    },
    {
      "id": "8e27d100-680d-48de-bdd7-341677f25040",
      "cell_type": "code",
      "source": "print(\"Wyznacznik macierzy: \")\nprint(wyznacznik(aret))",
      "metadata": {
        "trusted": true
      },
      "outputs": [
        {
          "name": "stdout",
          "output_type": "stream",
          "text": "Wyznacznik macierzy: \n52.00000000000095\n"
        }
      ],
      "execution_count": 9
    },
    {
      "id": "f6133a34-3388-4bb9-9499-735bc18666f2",
      "cell_type": "markdown",
      "source": "### Ślad macierzy",
      "metadata": {}
    },
    {
      "id": "dd6fb209-3974-42ea-a28f-d5cfba473f6f",
      "cell_type": "code",
      "source": "def slad(A):\n    q=0\n    n = A.shape[0]\n    for i in range(n):\n        q+=A[i,i]\n    return q",
      "metadata": {
        "trusted": true
      },
      "outputs": [],
      "execution_count": 10
    },
    {
      "id": "027975c7-8181-4798-937a-b586a8097bef",
      "cell_type": "code",
      "source": "print(\"Slad macierzy: \")\nprint(slad(A))",
      "metadata": {
        "trusted": true
      },
      "outputs": [
        {
          "name": "stdout",
          "output_type": "stream",
          "text": "Slad macierzy: \n15\n"
        }
      ],
      "execution_count": 11
    },
    {
      "id": "72dc343e-8040-48ef-8177-5d93cae7c07e",
      "cell_type": "markdown",
      "source": "### Rząd macierzy",
      "metadata": {}
    },
    {
      "id": "1925e436-4de8-409b-a0bd-c3ffe9dce539",
      "cell_type": "code",
      "source": "def rzad(A):\n    n=A.shape[0]\n    if np.all(A == 0): \n        return 0\n    a=0\n    i=0\n    for i in range(n):\n        if abs(A[i,i])>tolerance:\n            a+=1\n    return a",
      "metadata": {
        "trusted": true
      },
      "outputs": [],
      "execution_count": 12
    },
    {
      "id": "b82719c6-eeac-4cb3-906e-d49d8b8182e1",
      "cell_type": "code",
      "source": "print(\"Rzad macierzy: \")\nprint(rzad(bret))",
      "metadata": {
        "trusted": true
      },
      "outputs": [
        {
          "name": "stdout",
          "output_type": "stream",
          "text": "Rzad macierzy: \n5\n"
        }
      ],
      "execution_count": 13
    },
    {
      "id": "d6fd9ad6-d619-4566-bfc5-1b04c34b2914",
      "cell_type": "markdown",
      "source": "### Macierz transponowana",
      "metadata": {}
    },
    {
      "id": "0fed97b9-5427-4759-991e-ccd4b11a9e1a",
      "cell_type": "code",
      "source": "def transpozycja(A):\n  A = A.copy().astype(float)\n  m=A.shape[0]  #liczba wierszy macierzy\n  n=A.shape[1]  #liczba kolumn macierzy \n  X = np.zeros((n,m), dtype=float) #pusta macierz o wymiarach n x m\n\n  for i in range (m):\n    for j in range (n):\n      X[j,i]=A[i,j] #operacja transponowania\n\n  return X",
      "metadata": {
        "trusted": true
      },
      "outputs": [],
      "execution_count": 14
    },
    {
      "id": "2e005f10-f71d-467a-aee6-ce565fc96fe4",
      "cell_type": "code",
      "source": "print(\"Macierz transponowana: \")\nprint(transpozycja(A))",
      "metadata": {
        "trusted": true
      },
      "outputs": [
        {
          "name": "stdout",
          "output_type": "stream",
          "text": "Macierz transponowana: \n[[4.00000 6.00000 2.00000 6.00000 8.00000]\n [7.00000 5.00000 6.00000 2.00000 9.00000]\n [2.00000 4.00000 6.00000 2.00000 9.00000]\n [8.00000 6.00000 6.00000 0.00000 4.00000]\n [5.00000 6.00000 4.00000 0.00000 0.00000]]\n"
        }
      ],
      "execution_count": 15
    },
    {
      "id": "37495e70-b737-4cc7-a3c6-48355d03264f",
      "cell_type": "markdown",
      "source": "### Mnożenie macierzy",
      "metadata": {}
    },
    {
      "id": "bc76fde1-798f-4d29-9091-274a5bb3d913",
      "cell_type": "code",
      "source": "def mnozenie(A,B):\n  mA=A.shape[0]\n  nA=A.shape[1]\n  mB=B.shape[0]\n  nB=B.shape[1]\n  if nA!=mB: #warunek konieczny mnozenia macierzy\n    print (\"Tych macierzy nie da sie pomnozyc\")\n    return \"\"\n  X=np.zeros((mA,nB), dtype=float) #pusta macierz o wymiarach wiersze A x kolumny B\n  for i in range (mA):\n    for j in range (nB):\n      for k in range (nA):\n        X[i,j]+=A[i,k]*B[k,j] #mnozenie macierzy\n  return X",
      "metadata": {
        "trusted": true
      },
      "outputs": [],
      "execution_count": 191
    },
    {
      "id": "db63e46e-f2bb-4780-b097-82bad07df811",
      "cell_type": "code",
      "source": "print (\"Wynik mnozenia macierzy: \")\nprint (mnozenie(A,B))",
      "metadata": {
        "trusted": true
      },
      "outputs": [
        {
          "name": "stdout",
          "output_type": "stream",
          "text": "Wynik mnozenia macierzy: \n[[ 30.00000  95.00000 125.00000 107.00000 157.00000]\n [ 61.00000 102.00000 114.00000 122.00000 171.00000]\n [ 36.00000  60.00000 102.00000  90.00000 139.00000]\n [ 54.00000  76.00000 136.00000 111.00000 176.00000]\n [ 36.00000  71.00000  57.00000  80.00000  95.00000]]\n"
        }
      ],
      "execution_count": 192
    },
    {
      "id": "0e25ce8c-f46b-441b-b815-dbb7b89d6d1c",
      "cell_type": "markdown",
      "source": "### Macierz odwrotna",
      "metadata": {}
    },
    {
      "id": "d98a0542-4474-4a6c-991b-716d8267d9a6",
      "cell_type": "code",
      "source": "def minor(A,i,j):  #funkcja pomocnicza, wyznaczajaca minory\n  A = A.copy().astype(float)\n  M = np.delete(A, i, axis=0)  #usuniecie i-tego wiersza\n  M = np.delete(M, j, axis=1)  #usuniecie j-tej kolumny\n  return M",
      "metadata": {
        "trusted": true
      },
      "outputs": [],
      "execution_count": 193
    },
    {
      "id": "6213badd-5c36-4e42-8f87-eb4b083eaf44",
      "cell_type": "code",
      "source": "def odwrotna(A):\n  A = A.copy().astype(float)\n  m=A.shape[0]\n  n=A.shape[1]  #wymiary macierzy A\n  \n  if m!=n:  #sprawdzanie zgodnosci wymiarow\n    print (\"Macierz odwrotna nie istnieje\")\n    return \"\"\n\n  if abs(wyznacznik(A))<tolerance:\n    print (\"Macierz odwrotna nie istnieje\") #warunek na odwracalnosc macierzy\n    return \"\"\n\n  X = np.zeros((m,n), dtype=float) #pusta macierz, wynik odwrotnosci\n  for i in range (n):\n    for j in range (m):\n      X[i,j]=((-1)**(i+j))*wyznacznik(minor(A,i,j))  # macierz stowarzyszona\n  \n  X=transpozycja(X)\n  X=X/wyznacznik(A)\n  return X",
      "metadata": {
        "trusted": true
      },
      "outputs": [],
      "execution_count": 194
    },
    {
      "id": "2b69fd59-c5be-441e-914b-870a843f3d0d",
      "cell_type": "code",
      "source": "print (\"Macierz odwrotna: \")\nprint (odwrotna(A))",
      "metadata": {
        "trusted": true
      },
      "outputs": [
        {
          "name": "stdout",
          "output_type": "stream",
          "text": "Macierz odwrotna: \n[[ 0.12500 -0.08333  0.09524 -0.00000  0.00000]\n [-0.04167  0.11111 -0.12698  0.00000 -0.00000]\n [ 0.02976 -0.07937  0.14286 -0.00000  0.00000]\n [-0.26786  0.71429 -1.28571  1.00000 -4.50000]\n [ 0.53571 -1.42857  2.57143 -2.00000  0.50000]]\n"
        }
      ],
      "execution_count": 195
    },
    {
      "id": "7655c32c-e2d1-4724-9a97-f687bc1c182f",
      "cell_type": "markdown",
      "source": "### Wielomian charakterystyczny",
      "metadata": {}
    },
    {
      "id": "9cae4d58-fc02-4189-9696-bc1c4e8c574e",
      "cell_type": "code",
      "source": "def wielomian_charakterystyczny(A):\n    A = A.copy().astype(float)\n    m= A.shape[0]\n    n=A.shape[1]  #wymiary macierzy A\n    if m != n:\n        print(\"Macierz nie jest kwadratowa – nie można wyznaczyć wielomianu.\")\n        return \"\"\n\n    λ = sp.symbols('λ')  #symbol lambda, uzywany do zapisu wielomianu\n    X = sp.Matrix(A)  #konwersja na macierz w sympy\n    I = sp.zeros(n,n)\n    for i in range (n):\n      I[i,i]= 1  #generowanie macierzy jednostkowej\n\n    X = X - λ * I  #w_A(\\lambda)=\\det(A-\\lambda I), \n    wyzn= sp.simplify(X.det())  #wyznacznik macierzy X, uproszczenie\n    wielomian = sp.Poly(wyzn, λ)  #utworzenie wielomianu ze zmienna \\lambda\n    return wielomian",
      "metadata": {
        "trusted": true
      },
      "outputs": [],
      "execution_count": 196
    },
    {
      "id": "92c4a4c8-3293-4e33-87af-002b6b1e5c14",
      "cell_type": "code",
      "source": "print(\"Wielomian charakterystyczny:\")\nprint(wielomian_charakterystyczny(A).as_expr())",
      "metadata": {
        "trusted": true
      },
      "outputs": [
        {
          "name": "stdout",
          "output_type": "stream",
          "text": "Wielomian charakterystyczny:\n-1.0*λ**5 + 27.0*λ**4 - 26.0*λ**3 - 538.0*λ**2 + 458.0*λ - 652.0\n"
        }
      ],
      "execution_count": 197
    },
    {
      "id": "3afeecda-d87a-4aa9-a23f-217c1127c3bc",
      "cell_type": "markdown",
      "source": "### Sprawdzanie przynależności do grup liniowych",
      "metadata": {}
    },
    {
      "id": "f58f84be-f8e5-42d8-a27e-18a016851b62",
      "cell_type": "code",
      "source": "def is_GL(A):\n    \"\"\"\n    Sprawdzenie czy macierz należy do GL(n)\n    Macierz należy do GL(n) jeśli jest odwracalna\n    \"\"\"\n    return abs(wyznacznik(A)) > tolerance\n\ndef is_SL(A):\n    \"\"\"\n    Sprawdzenie czy macierz należy do SL(n)\n    Macierz należy do SL(n) jeśli należy do GL(n) i det = 1\n    \"\"\"\n    return abs(wyznacznik(A) - 1) < tolerance\n\ndef is_orthogonal(A):\n    \"\"\"\n    Sprawdzenie czy macierz należy do O(n)\n    Macierz należy do O(n) jeśli A^{-1} = A^T\n    \"\"\"\n    return np.allclose(A @ A.T, np.eye(A.shape[0]), atol=tolerance)\n\ndef is_SO(A):\n    \"\"\"\n    Sprawdzenie czy macierz należy do SO(n)\n    j.w., należy do O(n) oraz det =1\n    \"\"\"\n    return is_orthogonal(A) and abs(wyznacznik(A) - 1) < tolerance\n\ndef is_unitary(A):\n    \"\"\"\n    Sprawdzenie czy macierz należy do U(n)\n    Macierz należy do U(n) jeśli A^{-1} = A^*\n    \"\"\"\n    return np.allclose(A @ A.conj().T, np.eye(A.shape[0]), atol=tolerance)\n\ndef is_SU(A):\n    \"\"\"\n    Sprawdzenie czy macierz należy do SU(n)\n    Należy do SU(n), jeśli należy do U(n) i det = 1\n    \"\"\"\n    return is_unitary(A) and abs(wyznacznik(A) - 1) < tolerance\n\ndef is_symplectic(A):\n    \"\"\"\n    Sprawdzenie czy macierz należy do grupy symplektycznej Sp(2n)\n    Macierz M jest symplektyczna jeśli jest macierzą niezdeg. antysym. formy dwuliniowej, czyli M^T J M = J gdzie J = [0 I; -I 0]\n    \"\"\"\n    n = A.shape[0]\n    if n % 2 != 0:\n        return False  # Wymiar musi być parzysty\n    \n    # Tworzymy macierz J\n    m = n // 2\n    J = np.block([[np.zeros((m, m)), np.eye(m)],\n                  [-np.eye(m), np.zeros((m, m))]])\n    \n    return np.allclose(A.T @ J @ A, J, atol=tolerance)",
      "metadata": {
        "trusted": true
      },
      "outputs": [],
      "execution_count": 198
    },
    {
      "id": "af40c039-944b-4812-9069-a47ffe4d4611",
      "cell_type": "code",
      "source": "def check_matrix_groups(A):\n    \"\"\"\n    Polecenie zwraca booleanowy słownik, gdzie kluczami są grupy liniowe\n    \"\"\"\n    results = {\n        'GL': is_GL(A),\n        'SL': is_SL(A),\n        'O': is_orthogonal(A),\n        'SO': is_SO(A),\n        'U': is_unitary(A),\n        'SU': is_SU(A),\n        'Sp': is_symplectic(A)\n    }\n    return results",
      "metadata": {
        "trusted": true
      },
      "outputs": [],
      "execution_count": 199
    },
    {
      "id": "9b598351-9e56-4058-a38a-633eae23f9d1",
      "cell_type": "markdown",
      "source": "### Przykłady",
      "metadata": {}
    },
    {
      "id": "5c8ea691-4b09-4ea2-ae39-73dbfc40826d",
      "cell_type": "code",
      "source": "identity = np.eye(2)\nrotation = np.array([[0.6, -0.8], [0.8, 0.6]])  # SO(2)\nsymplectic = np.array([[1, 0, 1, 0], \n                          [0, 1, 0, 1],\n                          [0, 0, 1, 0],\n                          [0, 0, 0, 1]])  # niesymplekt.\n    \nprint(\"id:\")\nprint(check_matrix_groups(identity))\n    \nprint(\"SO:\")\nprint(check_matrix_groups(rotation))\n    \nprint(\"U:\")\nprint(check_matrix_groups(unitary))\n    \nprint(\"Sp:\")\nprint(check_matrix_groups(symplectic))\n\nprint(\"A:\")\nprint(check_matrix_groups(A))",
      "metadata": {
        "trusted": true
      },
      "outputs": [
        {
          "ename": "<class 'NameError'>",
          "evalue": "name 'np' is not defined",
          "traceback": [
            "\u001b[0;31m---------------------------------------------------------------------------\u001b[0m",
            "\u001b[0;31mNameError\u001b[0m                                 Traceback (most recent call last)",
            "Cell \u001b[0;32mIn[1], line 1\u001b[0m\n\u001b[0;32m----> 1\u001b[0m identity \u001b[38;5;241m=\u001b[39m \u001b[43mnp\u001b[49m\u001b[38;5;241m.\u001b[39meye(\u001b[38;5;241m2\u001b[39m)\n\u001b[1;32m      2\u001b[0m rotation \u001b[38;5;241m=\u001b[39m np\u001b[38;5;241m.\u001b[39marray([[\u001b[38;5;241m0.6\u001b[39m, \u001b[38;5;241m-\u001b[39m\u001b[38;5;241m0.8\u001b[39m], [\u001b[38;5;241m0.8\u001b[39m, \u001b[38;5;241m0.6\u001b[39m]])  \u001b[38;5;66;03m# SO(2)\u001b[39;00m\n\u001b[1;32m      3\u001b[0m symplectic \u001b[38;5;241m=\u001b[39m np\u001b[38;5;241m.\u001b[39marray([[\u001b[38;5;241m1\u001b[39m, \u001b[38;5;241m0\u001b[39m, \u001b[38;5;241m1\u001b[39m, \u001b[38;5;241m0\u001b[39m], \n\u001b[1;32m      4\u001b[0m                           [\u001b[38;5;241m0\u001b[39m, \u001b[38;5;241m1\u001b[39m, \u001b[38;5;241m0\u001b[39m, \u001b[38;5;241m1\u001b[39m],\n\u001b[1;32m      5\u001b[0m                           [\u001b[38;5;241m0\u001b[39m, \u001b[38;5;241m0\u001b[39m, \u001b[38;5;241m1\u001b[39m, \u001b[38;5;241m0\u001b[39m],\n\u001b[1;32m      6\u001b[0m                           [\u001b[38;5;241m0\u001b[39m, \u001b[38;5;241m0\u001b[39m, \u001b[38;5;241m0\u001b[39m, \u001b[38;5;241m1\u001b[39m]])  \u001b[38;5;66;03m# niesymplekt.\u001b[39;00m\n",
            "\u001b[0;31mNameError\u001b[0m: name 'np' is not defined"
          ],
          "output_type": "error"
        }
      ],
      "execution_count": 1
    },
    {
      "id": "27191514-a900-4d3d-a2a9-398c10f0db5e",
      "cell_type": "code",
      "source": "",
      "metadata": {
        "trusted": true
      },
      "outputs": [],
      "execution_count": null
    }
  ]
}