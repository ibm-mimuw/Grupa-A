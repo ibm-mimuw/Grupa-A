{
  "metadata": {
    "kernelspec": {
      "name": "python",
      "display_name": "Python (Pyodide)",
      "language": "python"
    },
    "language_info": {
      "codemirror_mode": {
        "name": "python",
        "version": 3
      },
      "file_extension": ".py",
      "mimetype": "text/x-python",
      "name": "python",
      "nbconvert_exporter": "python",
      "pygments_lexer": "ipython3",
      "version": "3.8"
    },
    "colab": {
      "provenance": []
    }
  },
  "nbformat_minor": 5,
  "nbformat": 4,
  "cells": [
    {
      "id": "97980438-266b-4ee3-bfeb-2e207d06d61f",
      "cell_type": "markdown",
      "source": [
        "### Biblioteki"
      ],
      "metadata": {
        "id": "97980438-266b-4ee3-bfeb-2e207d06d61f"
      }
    },
    {
      "id": "5a76c2d2-64af-4515-9860-dfd05c17ba44",
      "cell_type": "code",
      "source": [
        "import numpy as np\n",
        "from numpy.linalg import det, inv, norm\n",
        "import sympy as sp  #biblioteka umozliwiajaca operacje symboliczne"
      ],
      "metadata": {
        "trusted": true,
        "id": "5a76c2d2-64af-4515-9860-dfd05c17ba44"
      },
      "outputs": [],
      "execution_count": 2
    },
    {
      "id": "c977173e-db4f-4f34-89e6-e497442dc6d2",
      "cell_type": "markdown",
      "source": [
        "### Losowe generowanie macierzy"
      ],
      "metadata": {
        "id": "c977173e-db4f-4f34-89e6-e497442dc6d2"
      }
    },
    {
      "id": "c8295671-0290-4e46-875e-818e8e656ff6",
      "cell_type": "code",
      "source": [
        "np.set_printoptions(precision=5, suppress=False, floatmode='fixed')\n",
        "tolerance=1e-20\n",
        "n=5\n",
        "\n",
        "A=np.random.randint(low=0, high=10, size=(n, n)) #macierz, na której będziemy wykonywać wszelkie operacje\n",
        "B=np.random.randint(low=0, high=10, size=(n, n)) #macierz do testu mnożenia\n",
        "\n",
        "print(\"Macierz A: \")\n",
        "print(A)\n",
        "print(\"Macierz B: \")\n",
        "print(B)\n",
        "\n",
        "Z=A\n",
        "k=0"
      ],
      "metadata": {
        "trusted": true,
        "colab": {
          "base_uri": "https://localhost:8080/"
        },
        "id": "c8295671-0290-4e46-875e-818e8e656ff6",
        "outputId": "326f0efd-4a13-42dd-c63c-53f0fe8a843b"
      },
      "outputs": [
        {
          "output_type": "stream",
          "name": "stdout",
          "text": [
            "Macierz A: \n",
            "[[2 3 0 4 2]\n",
            " [9 7 8 0 6]\n",
            " [0 5 5 6 6]\n",
            " [9 7 3 9 7]\n",
            " [0 4 2 9 7]]\n",
            "Macierz B: \n",
            "[[6 0 6 3 1]\n",
            " [9 6 3 2 0]\n",
            " [4 8 1 1 8]\n",
            " [8 2 0 2 0]\n",
            " [2 5 8 2 8]]\n"
          ]
        }
      ],
      "execution_count": 8
    },
    {
      "id": "cd186536-e19d-4aad-aaf0-e70f40ce67e3",
      "cell_type": "markdown",
      "source": [
        "### Postać schodkowa"
      ],
      "metadata": {
        "id": "cd186536-e19d-4aad-aaf0-e70f40ce67e3"
      }
    },
    {
      "id": "31496b70-4d3c-472b-aa93-ef8ebabd8bed",
      "cell_type": "code",
      "source": [
        "def schodkowa(A):\n",
        "    k=0\n",
        "    A = A.copy().astype(float) #tworzy kopię i operacje wykonujemy na niej\n",
        "    n = A.shape[0]\n",
        "    if np.all(A == 0): #jeśli macierz jest wypełniona samymi zerami, to jest w postaci schodkowej\n",
        "        return A\n",
        "    current_row = 0\n",
        "    for col in range(n): #przechodzimy przez kolejne kolumny\n",
        "        pivot_row = None\n",
        "        for row in range(current_row, n): #szukamy pierwszego niezerowego elementu w kolumnie)\n",
        "            if abs(A[row, col]) > tolerance:  #używamy tolerancji dla błędów numerycznych\n",
        "                pivot_row = row\n",
        "                break\n",
        "        if pivot_row is None: #jeśli cała kolumna jest zerowa, przechodzimy do następnej\n",
        "            continue\n",
        "        if pivot_row != current_row: #aby mieć niezerowy element w pierwszym wierszu, zamieniamy wiersze\n",
        "            A[[current_row, pivot_row]] = A[[pivot_row, current_row]]\n",
        "            k+=1\n",
        "        for row in range(current_row + 1, n): #stosujemy eliminację w kolumnie\n",
        "            if abs(A[row, col]) > tolerance:\n",
        "                multiplier = A[row, col] / A[current_row, col]\n",
        "                A[row, col:] = A[row, col:] - multiplier * A[current_row, col:]\n",
        "        current_row += 1\n",
        "        if current_row >= n:\n",
        "            break\n",
        "\n",
        "    return A,k"
      ],
      "metadata": {
        "trusted": true,
        "id": "31496b70-4d3c-472b-aa93-ef8ebabd8bed"
      },
      "outputs": [],
      "execution_count": 9
    },
    {
      "id": "bdfedfb3-8939-4052-9398-c33b46e3cc00",
      "cell_type": "code",
      "source": [
        "aret,kret=schodkowa(A)\n",
        "print(\"Postac schodkowa macierzy: \")\n",
        "print(aret)"
      ],
      "metadata": {
        "trusted": true,
        "colab": {
          "base_uri": "https://localhost:8080/"
        },
        "id": "bdfedfb3-8939-4052-9398-c33b46e3cc00",
        "outputId": "1d12a286-8c5e-4e0f-f26a-dd4bf2e4a727"
      },
      "outputs": [
        {
          "output_type": "stream",
          "name": "stdout",
          "text": [
            "Postac schodkowa macierzy: \n",
            "[[  2.00000   3.00000   0.00000   4.00000   2.00000]\n",
            " [  0.00000  -6.50000   8.00000 -18.00000  -3.00000]\n",
            " [  0.00000   0.00000  11.15385  -7.84615   3.69231]\n",
            " [  0.00000   0.00000   0.00000   5.48276   2.65517]\n",
            " [  0.00000   0.00000   0.00000   0.00000   1.50943]]\n"
          ]
        }
      ],
      "execution_count": 10
    },
    {
      "id": "b4dbd00f-e16f-423a-bcc7-2ea60b16d262",
      "cell_type": "markdown",
      "source": [
        "### Postać zredukowana"
      ],
      "metadata": {
        "id": "b4dbd00f-e16f-423a-bcc7-2ea60b16d262"
      }
    },
    {
      "id": "104e40be-cbb5-4833-a294-b688827733e9",
      "cell_type": "code",
      "source": [
        "def zredukowana(A):\n",
        "    B=aret.transpose()\n",
        "    bret,kret1=schodkowa(B)\n",
        "    return bret"
      ],
      "metadata": {
        "trusted": true,
        "id": "104e40be-cbb5-4833-a294-b688827733e9"
      },
      "outputs": [],
      "execution_count": 11
    },
    {
      "id": "1e64300c-0342-472d-9684-5ae3feba00b9",
      "cell_type": "code",
      "source": [
        "bret = zredukowana(aret)\n",
        "print(\"Postac zredukowana macierzy: \")\n",
        "print(bret)"
      ],
      "metadata": {
        "trusted": true,
        "colab": {
          "base_uri": "https://localhost:8080/"
        },
        "id": "1e64300c-0342-472d-9684-5ae3feba00b9",
        "outputId": "ff64d390-d482-4452-8760-f66cb5604796"
      },
      "outputs": [
        {
          "output_type": "stream",
          "name": "stdout",
          "text": [
            "Postac zredukowana macierzy: \n",
            "[[ 2.00000  0.00000  0.00000  0.00000  0.00000]\n",
            " [ 0.00000 -6.50000  0.00000  0.00000  0.00000]\n",
            " [ 0.00000  0.00000 11.15385  0.00000  0.00000]\n",
            " [ 0.00000  0.00000  0.00000  5.48276  0.00000]\n",
            " [ 0.00000  0.00000  0.00000  0.00000  1.50943]]\n"
          ]
        }
      ],
      "execution_count": 12
    },
    {
      "id": "fb437229-531b-4158-bb6a-e464330e62b1",
      "cell_type": "markdown",
      "source": [
        "### Wyznacznik macierzy"
      ],
      "metadata": {
        "id": "fb437229-531b-4158-bb6a-e464330e62b1"
      }
    },
    {
      "id": "9d02ab1e-303d-4958-b3ed-280aa270a80a",
      "cell_type": "code",
      "source": [
        "def wyznacznik(A):\n",
        "    n=A.shape[0]\n",
        "    m=1\n",
        "    m=float(m)\n",
        "    for i in range(n):\n",
        "        m*=float(A[i,i])\n",
        "    m*=(-1)**(kret%2)\n",
        "    return m"
      ],
      "metadata": {
        "trusted": true,
        "id": "9d02ab1e-303d-4958-b3ed-280aa270a80a"
      },
      "outputs": [],
      "execution_count": 13
    },
    {
      "id": "8e27d100-680d-48de-bdd7-341677f25040",
      "cell_type": "code",
      "source": [
        "print(\"Wyznacznik macierzy: \")\n",
        "print(wyznacznik(aret))"
      ],
      "metadata": {
        "trusted": true,
        "colab": {
          "base_uri": "https://localhost:8080/"
        },
        "id": "8e27d100-680d-48de-bdd7-341677f25040",
        "outputId": "11709d71-d995-4685-f8db-0bcd4f0ccd43"
      },
      "outputs": [
        {
          "output_type": "stream",
          "name": "stdout",
          "text": [
            "Wyznacznik macierzy: \n",
            "-1199.9999999999993\n"
          ]
        }
      ],
      "execution_count": 14
    },
    {
      "id": "f6133a34-3388-4bb9-9499-735bc18666f2",
      "cell_type": "markdown",
      "source": [
        "### Ślad macierzy"
      ],
      "metadata": {
        "id": "f6133a34-3388-4bb9-9499-735bc18666f2"
      }
    },
    {
      "id": "dd6fb209-3974-42ea-a28f-d5cfba473f6f",
      "cell_type": "code",
      "source": [
        "def slad(A):\n",
        "    q=0\n",
        "    n = A.shape[0]\n",
        "    for i in range(n):\n",
        "        q+=A[i,i]\n",
        "    return q"
      ],
      "metadata": {
        "trusted": true,
        "id": "dd6fb209-3974-42ea-a28f-d5cfba473f6f"
      },
      "outputs": [],
      "execution_count": 15
    },
    {
      "id": "027975c7-8181-4798-937a-b586a8097bef",
      "cell_type": "code",
      "source": [
        "print(\"Slad macierzy: \")\n",
        "print(slad(A))"
      ],
      "metadata": {
        "trusted": true,
        "colab": {
          "base_uri": "https://localhost:8080/"
        },
        "id": "027975c7-8181-4798-937a-b586a8097bef",
        "outputId": "9d1a6f69-8be1-4fdc-fcda-f5ebbf0a3e91"
      },
      "outputs": [
        {
          "output_type": "stream",
          "name": "stdout",
          "text": [
            "Slad macierzy: \n",
            "30\n"
          ]
        }
      ],
      "execution_count": 16
    },
    {
      "id": "72dc343e-8040-48ef-8177-5d93cae7c07e",
      "cell_type": "markdown",
      "source": [
        "### Rząd macierzy"
      ],
      "metadata": {
        "id": "72dc343e-8040-48ef-8177-5d93cae7c07e"
      }
    },
    {
      "id": "1925e436-4de8-409b-a0bd-c3ffe9dce539",
      "cell_type": "code",
      "source": [
        "def rzad(A):\n",
        "    n=A.shape[0]\n",
        "    if np.all(A == 0):\n",
        "        return 0\n",
        "    a=0\n",
        "    i=0\n",
        "    for i in range(n):\n",
        "        if abs(A[i,i])>tolerance:\n",
        "            a+=1\n",
        "    return a"
      ],
      "metadata": {
        "trusted": true,
        "id": "1925e436-4de8-409b-a0bd-c3ffe9dce539"
      },
      "outputs": [],
      "execution_count": 17
    },
    {
      "id": "b82719c6-eeac-4cb3-906e-d49d8b8182e1",
      "cell_type": "code",
      "source": [
        "print(\"Rzad macierzy: \")\n",
        "print(rzad(bret))"
      ],
      "metadata": {
        "trusted": true,
        "colab": {
          "base_uri": "https://localhost:8080/"
        },
        "id": "b82719c6-eeac-4cb3-906e-d49d8b8182e1",
        "outputId": "d5037b58-dbe4-4436-aabd-92137056bfaa"
      },
      "outputs": [
        {
          "output_type": "stream",
          "name": "stdout",
          "text": [
            "Rzad macierzy: \n",
            "5\n"
          ]
        }
      ],
      "execution_count": 18
    },
    {
      "id": "d6fd9ad6-d619-4566-bfc5-1b04c34b2914",
      "cell_type": "markdown",
      "source": [
        "### Macierz transponowana"
      ],
      "metadata": {
        "id": "d6fd9ad6-d619-4566-bfc5-1b04c34b2914"
      }
    },
    {
      "id": "0fed97b9-5427-4759-991e-ccd4b11a9e1a",
      "cell_type": "code",
      "source": [
        "def transpozycja(A):\n",
        "  A = A.copy().astype(float)\n",
        "  m=A.shape[0]  #liczba wierszy macierzy\n",
        "  n=A.shape[1]  #liczba kolumn macierzy\n",
        "  X = np.zeros((n,m), dtype=float) #pusta macierz o wymiarach n x m\n",
        "\n",
        "  for i in range (m):\n",
        "    for j in range (n):\n",
        "      X[j,i]=A[i,j] #operacja transponowania\n",
        "\n",
        "  return X"
      ],
      "metadata": {
        "trusted": true,
        "id": "0fed97b9-5427-4759-991e-ccd4b11a9e1a"
      },
      "outputs": [],
      "execution_count": 19
    },
    {
      "id": "2e005f10-f71d-467a-aee6-ce565fc96fe4",
      "cell_type": "code",
      "source": [
        "print(\"Macierz transponowana: \")\n",
        "print(transpozycja(A))"
      ],
      "metadata": {
        "trusted": true,
        "colab": {
          "base_uri": "https://localhost:8080/"
        },
        "id": "2e005f10-f71d-467a-aee6-ce565fc96fe4",
        "outputId": "f4234686-0561-42b6-ba56-4c415335d45d"
      },
      "outputs": [
        {
          "output_type": "stream",
          "name": "stdout",
          "text": [
            "Macierz transponowana: \n",
            "[[2.00000 9.00000 0.00000 9.00000 0.00000]\n",
            " [3.00000 7.00000 5.00000 7.00000 4.00000]\n",
            " [0.00000 8.00000 5.00000 3.00000 2.00000]\n",
            " [4.00000 0.00000 6.00000 9.00000 9.00000]\n",
            " [2.00000 6.00000 6.00000 7.00000 7.00000]]\n"
          ]
        }
      ],
      "execution_count": 20
    },
    {
      "id": "37495e70-b737-4cc7-a3c6-48355d03264f",
      "cell_type": "markdown",
      "source": [
        "### Mnożenie macierzy"
      ],
      "metadata": {
        "id": "37495e70-b737-4cc7-a3c6-48355d03264f"
      }
    },
    {
      "id": "bc76fde1-798f-4d29-9091-274a5bb3d913",
      "cell_type": "code",
      "source": [
        "def mnozenie(A,B):\n",
        "  mA=A.shape[0]\n",
        "  nA=A.shape[1]\n",
        "  mB=B.shape[0]\n",
        "  nB=B.shape[1]\n",
        "  if nA!=mB: #warunek konieczny mnozenia macierzy\n",
        "    print (\"Tych macierzy nie da sie pomnozyc\")\n",
        "    return \"\"\n",
        "  X=np.zeros((mA,nB), dtype=float) #pusta macierz o wymiarach wiersze A x kolumny B\n",
        "  for i in range (mA):\n",
        "    for j in range (nB):\n",
        "      for k in range (nA):\n",
        "        X[i,j]+=A[i,k]*B[k,j] #mnozenie macierzy\n",
        "  return X"
      ],
      "metadata": {
        "trusted": true,
        "id": "bc76fde1-798f-4d29-9091-274a5bb3d913"
      },
      "outputs": [],
      "execution_count": 21
    },
    {
      "id": "db63e46e-f2bb-4780-b097-82bad07df811",
      "cell_type": "code",
      "source": [
        "print (\"Wynik mnozenia macierzy: \")\n",
        "print (mnozenie(A,B))"
      ],
      "metadata": {
        "trusted": true,
        "colab": {
          "base_uri": "https://localhost:8080/"
        },
        "id": "db63e46e-f2bb-4780-b097-82bad07df811",
        "outputId": "2d21e4b5-1839-47b7-9ca5-abdad2f3b3f5"
      },
      "outputs": [
        {
          "output_type": "stream",
          "name": "stdout",
          "text": [
            "Wynik mnozenia macierzy: \n",
            "[[ 75.00000  36.00000  37.00000  24.00000  18.00000]\n",
            " [161.00000 136.00000 131.00000  61.00000 121.00000]\n",
            " [125.00000 112.00000  68.00000  39.00000  88.00000]\n",
            " [215.00000 119.00000 134.00000  76.00000  89.00000]\n",
            " [130.00000  93.00000  70.00000  42.00000  72.00000]]\n"
          ]
        }
      ],
      "execution_count": 22
    },
    {
      "id": "0e25ce8c-f46b-441b-b815-dbb7b89d6d1c",
      "cell_type": "markdown",
      "source": [
        "### Macierz odwrotna"
      ],
      "metadata": {
        "id": "0e25ce8c-f46b-441b-b815-dbb7b89d6d1c"
      }
    },
    {
      "id": "d98a0542-4474-4a6c-991b-716d8267d9a6",
      "cell_type": "code",
      "source": [
        "def minor(A,i,j):  #funkcja pomocnicza, wyznaczajaca minory\n",
        "  A = A.copy().astype(float)\n",
        "  M = np.delete(A, i, axis=0)  #usuniecie i-tego wiersza\n",
        "  M = np.delete(M, j, axis=1)  #usuniecie j-tej kolumny\n",
        "  return M"
      ],
      "metadata": {
        "trusted": true,
        "id": "d98a0542-4474-4a6c-991b-716d8267d9a6"
      },
      "outputs": [],
      "execution_count": 23
    },
    {
      "id": "6213badd-5c36-4e42-8f87-eb4b083eaf44",
      "cell_type": "code",
      "source": [
        "def odwrotna(A):\n",
        "  A = A.copy().astype(float)\n",
        "  m=A.shape[0]\n",
        "  n=A.shape[1]  #wymiary macierzy A\n",
        "\n",
        "  if m!=n:  #sprawdzanie zgodnosci wymiarow\n",
        "    print (\"Macierz odwrotna nie istnieje\")\n",
        "    return \"\"\n",
        "\n",
        "  if abs(wyznacznik(A))<tolerance:\n",
        "    print (\"Macierz odwrotna nie istnieje\") #warunek na odwracalnosc macierzy\n",
        "    return \"\"\n",
        "\n",
        "  X = np.zeros((m,n), dtype=float) #pusta macierz, wynik odwrotnosci\n",
        "  for i in range (n):\n",
        "    for j in range (m):\n",
        "      X[i,j]=((-1)**(i+j))*wyznacznik(minor(A,i,j))  # macierz stowarzyszona\n",
        "\n",
        "  X=transpozycja(X)\n",
        "  X=X/wyznacznik(A)\n",
        "  return X"
      ],
      "metadata": {
        "trusted": true,
        "id": "6213badd-5c36-4e42-8f87-eb4b083eaf44"
      },
      "outputs": [],
      "execution_count": 24
    },
    {
      "id": "2b69fd59-c5be-441e-914b-870a843f3d0d",
      "cell_type": "code",
      "source": [
        "print (\"Macierz odwrotna: \")\n",
        "print (odwrotna(A))"
      ],
      "metadata": {
        "trusted": true,
        "colab": {
          "base_uri": "https://localhost:8080/"
        },
        "id": "2b69fd59-c5be-441e-914b-870a843f3d0d",
        "outputId": "3bf74a75-92e9-4a67-9e59-6a538b41bc10"
      },
      "outputs": [
        {
          "output_type": "stream",
          "name": "stdout",
          "text": [
            "Macierz odwrotna: \n",
            "[[ 0.50000 -0.21429  0.34286 -0.22857  0.22857]\n",
            " [-0.64286  0.14286 -0.22857  0.15238 -0.15238]\n",
            " [ 0.64286 -0.14286  0.20000 -0.13333  0.13333]\n",
            " [-0.21429  0.04762 -0.06667  0.11111 -0.11111]\n",
            " [ 0.27551 -0.06122  0.08571 -0.14286  0.14286]]\n"
          ]
        }
      ],
      "execution_count": 25
    },
    {
      "id": "7655c32c-e2d1-4724-9a97-f687bc1c182f",
      "cell_type": "markdown",
      "source": [
        "### Wielomian charakterystyczny"
      ],
      "metadata": {
        "id": "7655c32c-e2d1-4724-9a97-f687bc1c182f"
      }
    },
    {
      "id": "9cae4d58-fc02-4189-9696-bc1c4e8c574e",
      "cell_type": "code",
      "source": [
        "def wielomian_charakterystyczny(A):\n",
        "    A = A.copy().astype(float)\n",
        "    m= A.shape[0]\n",
        "    n=A.shape[1]  #wymiary macierzy A\n",
        "    if m != n:\n",
        "        print(\"Macierz nie jest kwadratowa – nie można wyznaczyć wielomianu.\")\n",
        "        return \"\"\n",
        "\n",
        "    λ = sp.symbols('λ')  #symbol lambda, uzywany do zapisu wielomianu\n",
        "    X = sp.Matrix(A)  #konwersja na macierz w sympy\n",
        "    I = sp.zeros(n,n)\n",
        "    for i in range (n):\n",
        "      I[i,i]= 1  #generowanie macierzy jednostkowej\n",
        "\n",
        "    X = X - λ * I  #w_A(\\lambda)=\\det(A-\\lambda I),\n",
        "    wyzn= sp.simplify(X.det())  #wyznacznik macierzy X, uproszczenie\n",
        "    wielomian = sp.Poly(wyzn, λ)  #utworzenie wielomianu ze zmienna \\lambda\n",
        "    return wielomian"
      ],
      "metadata": {
        "trusted": true,
        "id": "9cae4d58-fc02-4189-9696-bc1c4e8c574e"
      },
      "outputs": [],
      "execution_count": 26
    },
    {
      "id": "92c4a4c8-3293-4e33-87af-002b6b1e5c14",
      "cell_type": "code",
      "source": [
        "print(\"Wielomian charakterystyczny:\")\n",
        "print(wielomian_charakterystyczny(A).as_expr())"
      ],
      "metadata": {
        "trusted": true,
        "colab": {
          "base_uri": "https://localhost:8080/"
        },
        "id": "92c4a4c8-3293-4e33-87af-002b6b1e5c14",
        "outputId": "453ef1cc-c7fc-4ffb-e74b-557e755b37dc"
      },
      "outputs": [
        {
          "output_type": "stream",
          "name": "stdout",
          "text": [
            "Wielomian charakterystyczny:\n",
            "-1.0*λ**5 + 30.0*λ**4 - 126.0*λ**3 - 147.0*λ**2 + 1786.0*λ - 1200.0\n"
          ]
        }
      ],
      "execution_count": 27
    },
    {
      "id": "3afeecda-d87a-4aa9-a23f-217c1127c3bc",
      "cell_type": "markdown",
      "source": [
        "### Sprawdzanie przynależności do grup liniowych"
      ],
      "metadata": {
        "id": "3afeecda-d87a-4aa9-a23f-217c1127c3bc"
      }
    },
    {
      "id": "f58f84be-f8e5-42d8-a27e-18a016851b62",
      "cell_type": "code",
      "source": [
        "def is_GL(A):\n",
        "    \"\"\"\n",
        "    Sprawdzenie czy macierz należy do GL(n)\n",
        "    Macierz należy do GL(n) jeśli jest odwracalna\n",
        "    \"\"\"\n",
        "    return abs(wyznacznik(A)) > tolerance\n",
        "\n",
        "def is_SL(A):\n",
        "    \"\"\"\n",
        "    Sprawdzenie czy macierz należy do SL(n)\n",
        "    Macierz należy do SL(n) jeśli należy do GL(n) i det = 1\n",
        "    \"\"\"\n",
        "    return abs(wyznacznik(A) - 1) < tolerance\n",
        "\n",
        "def is_orthogonal(A):\n",
        "    \"\"\"\n",
        "    Sprawdzenie czy macierz należy do O(n)\n",
        "    Macierz należy do O(n) jeśli A^{-1} = A^T\n",
        "    \"\"\"\n",
        "    return np.allclose(A @ A.T, np.eye(A.shape[0]), atol=tolerance)\n",
        "\n",
        "def is_SO(A):\n",
        "    \"\"\"\n",
        "    Sprawdzenie czy macierz należy do SO(n)\n",
        "    j.w., należy do O(n) oraz det =1\n",
        "    \"\"\"\n",
        "    return is_orthogonal(A) and abs(wyznacznik(A) - 1) < tolerance\n",
        "\n",
        "def is_unitary(A):\n",
        "    \"\"\"\n",
        "    Sprawdzenie czy macierz należy do U(n)\n",
        "    Macierz należy do U(n) jeśli A^{-1} = A^*\n",
        "    \"\"\"\n",
        "    return np.allclose(A @ A.conj().T, np.eye(A.shape[0]), atol=tolerance)\n",
        "\n",
        "def is_SU(A):\n",
        "    \"\"\"\n",
        "    Sprawdzenie czy macierz należy do SU(n)\n",
        "    Należy do SU(n), jeśli należy do U(n) i det = 1\n",
        "    \"\"\"\n",
        "    return is_unitary(A) and abs(wyznacznik(A) - 1) < tolerance\n",
        "\n",
        "def is_symplectic(A):\n",
        "    \"\"\"\n",
        "    Sprawdzenie czy macierz należy do grupy symplektycznej Sp(2n)\n",
        "    Macierz M jest symplektyczna jeśli jest macierzą niezdeg. antysym. formy dwuliniowej, czyli M^T J M = J gdzie J = [0 I; -I 0]\n",
        "    \"\"\"\n",
        "    n = A.shape[0]\n",
        "    if n % 2 != 0:\n",
        "        return False  # Wymiar musi być parzysty\n",
        "\n",
        "    # Tworzymy macierz J\n",
        "    m = n // 2\n",
        "    J = np.block([[np.zeros((m, m)), np.eye(m)],\n",
        "                  [-np.eye(m), np.zeros((m, m))]])\n",
        "\n",
        "    return np.allclose(A.T @ J @ A, J, atol=tolerance)"
      ],
      "metadata": {
        "trusted": true,
        "id": "f58f84be-f8e5-42d8-a27e-18a016851b62"
      },
      "outputs": [],
      "execution_count": 28
    },
    {
      "id": "af40c039-944b-4812-9069-a47ffe4d4611",
      "cell_type": "code",
      "source": [
        "def check_matrix_groups(A):\n",
        "    \"\"\"\n",
        "    Polecenie zwraca booleanowy słownik, gdzie kluczami są grupy liniowe\n",
        "    \"\"\"\n",
        "    results = {\n",
        "        'GL': is_GL(A),\n",
        "        'SL': is_SL(A),\n",
        "        'O': is_orthogonal(A),\n",
        "        'SO': is_SO(A),\n",
        "        'U': is_unitary(A),\n",
        "        'SU': is_SU(A),\n",
        "        'Sp': is_symplectic(A)\n",
        "    }\n",
        "    return results"
      ],
      "metadata": {
        "trusted": true,
        "id": "af40c039-944b-4812-9069-a47ffe4d4611"
      },
      "outputs": [],
      "execution_count": 5
    },
    {
      "id": "9b598351-9e56-4058-a38a-633eae23f9d1",
      "cell_type": "markdown",
      "source": [
        "### Przykłady"
      ],
      "metadata": {
        "id": "9b598351-9e56-4058-a38a-633eae23f9d1"
      }
    },
    {
      "id": "5c8ea691-4b09-4ea2-ae39-73dbfc40826d",
      "cell_type": "code",
      "source": [
        "identity = np.eye(2)\n",
        "rotation = np.array([[0.6, -0.8], [0.8, 0.6]])  # SO(2)\n",
        "unitary = np.array([[1j,1],[1,1j]]) / np.sqrt(2) # SU(2)\n",
        "symplectic = np.array([[1, 0, 1, 0],\n",
        "                          [0, 1, 0, 1],\n",
        "                          [0, 0, 1, 0],\n",
        "                          [0, 0, 0, 1]])  # niesymplekt.\n",
        "\n",
        "print(\"id:\")\n",
        "print(check_matrix_groups(identity))\n",
        "\n",
        "print(\"SO:\")\n",
        "print(check_matrix_groups(rotation))\n",
        "\n",
        "print(\"U:\")\n",
        "print(check_matrix_groups(unitary))\n",
        "\n",
        "print(\"Sp:\")\n",
        "print(check_matrix_groups(symplectic))\n",
        "\n",
        "print(\"A:\")\n",
        "print(check_matrix_groups(A))"
      ],
      "metadata": {
        "trusted": true,
        "colab": {
          "base_uri": "https://localhost:8080/"
        },
        "id": "5c8ea691-4b09-4ea2-ae39-73dbfc40826d",
        "outputId": "a8889b36-ed95-4049-a3e8-867de62cb73e"
      },
      "outputs": [
        {
          "output_type": "stream",
          "name": "stdout",
          "text": [
            "id:\n",
            "{'GL': True, 'SL': True, 'O': True, 'SO': True, 'U': True, 'SU': True, 'Sp': True}\n",
            "SO:\n",
            "{'GL': True, 'SL': False, 'O': False, 'SO': False, 'U': False, 'SU': False, 'Sp': False}\n",
            "U:\n",
            "{'GL': False, 'SL': False, 'O': False, 'SO': False, 'U': True, 'SU': False, 'Sp': False}\n",
            "Sp:\n",
            "{'GL': True, 'SL': True, 'O': False, 'SO': False, 'U': False, 'SU': False, 'Sp': True}\n",
            "A:\n",
            "{'GL': True, 'SL': False, 'O': False, 'SO': False, 'U': False, 'SU': False, 'Sp': False}\n"
          ]
        },
        {
          "output_type": "stream",
          "name": "stderr",
          "text": [
            "<ipython-input-13-6398d1585878>:6: ComplexWarning: Casting complex values to real discards the imaginary part\n",
            "  m*=float(A[i,i])\n"
          ]
        }
      ],
      "execution_count": 30
    },
    {
      "id": "27191514-a900-4d3d-a2a9-398c10f0db5e",
      "cell_type": "code",
      "source": [],
      "metadata": {
        "trusted": true,
        "id": "27191514-a900-4d3d-a2a9-398c10f0db5e"
      },
      "outputs": [],
      "execution_count": null
    }
  ]
}